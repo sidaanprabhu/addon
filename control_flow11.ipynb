{
  "nbformat": 4,
  "nbformat_minor": 0,
  "metadata": {
    "colab": {
      "provenance": []
    },
    "kernelspec": {
      "name": "python3",
      "display_name": "Python 3"
    },
    "language_info": {
      "name": "python"
    }
  },
  "cells": [
    {
      "cell_type": "code",
      "execution_count": null,
      "metadata": {
        "id": "-UcIu3JpwxR4"
      },
      "outputs": [],
      "source": [
        "#conditional statements\n",
        "\n"
      ]
    },
    {
      "cell_type": "code",
      "source": [
        "price_tv=20000\n",
        "if price_tv<=20000:\n",
        "   print(\"please pack it\")"
      ],
      "metadata": {
        "colab": {
          "base_uri": "https://localhost:8080/"
        },
        "id": "KEuU3ONpzy9l",
        "outputId": "d91a5a19-3df3-4857-bbc3-6d7e6bafc38e"
      },
      "execution_count": null,
      "outputs": [
        {
          "output_type": "stream",
          "name": "stdout",
          "text": [
            "please pack it\n"
          ]
        }
      ]
    },
    {
      "cell_type": "code",
      "source": [
        "price_tv=int(input(\"enter the price\"))\n",
        "if price_tv<=20000:\n",
        "   print(\"pack it\")"
      ],
      "metadata": {
        "colab": {
          "base_uri": "https://localhost:8080/"
        },
        "id": "2mHdqAfO0t_H",
        "outputId": "ed62ee2e-6e38-483c-b4b5-67b5bb852fa8"
      },
      "execution_count": null,
      "outputs": [
        {
          "output_type": "stream",
          "name": "stdout",
          "text": [
            "enter the price20000\n",
            "pack it\n"
          ]
        }
      ]
    },
    {
      "cell_type": "code",
      "source": [
        "price_tv=int(input(\"enter the price\"))\n",
        "if price_tv<=20000:\n",
        "   print(\"pack it\")\n",
        "else:\n",
        "  print(\"we will lokk another one\")"
      ],
      "metadata": {
        "colab": {
          "base_uri": "https://localhost:8080/"
        },
        "outputId": "deb1ad1e-a8f6-4bf3-c2de-a252661ed6b9",
        "id": "EuxcxBa41qGM"
      },
      "execution_count": null,
      "outputs": [
        {
          "output_type": "stream",
          "name": "stdout",
          "text": [
            "enter the price20000\n",
            "pack it\n"
          ]
        }
      ]
    },
    {
      "cell_type": "code",
      "source": [
        "#write a program to a given a number is even for not"
      ],
      "metadata": {
        "id": "NjwDnme72MLm"
      },
      "execution_count": null,
      "outputs": []
    },
    {
      "cell_type": "code",
      "source": [
        "number=int(input(\"enter a number\"))\n",
        "if number%2==0:\n",
        "   print(\"the number is even\")\n",
        "else:\n",
        "   print(\"the number is odd\")"
      ],
      "metadata": {
        "colab": {
          "base_uri": "https://localhost:8080/"
        },
        "id": "PFQMWEsE2mbm",
        "outputId": "3ce9b175-0674-4005-c19d-1779b5ffdd86"
      },
      "execution_count": null,
      "outputs": [
        {
          "output_type": "stream",
          "name": "stdout",
          "text": [
            "enter a number2\n",
            "the number is even\n"
          ]
        }
      ]
    },
    {
      "cell_type": "code",
      "source": [
        "a=12\n",
        "b=32\n",
        "c=26\n",
        "if a>b and a>c:\n",
        "  print(a,\"is the biggest\")\n",
        "elif b>a and b>c:\n",
        "     print(b,\"is the biggest\")\n",
        "else:\n",
        "     print(c,\"is the biggest\")"
      ],
      "metadata": {
        "colab": {
          "base_uri": "https://localhost:8080/"
        },
        "id": "f0mgVHwu4VpC",
        "outputId": "7dcfd535-c8bc-425a-dfab-c89984585be0"
      },
      "execution_count": null,
      "outputs": [
        {
          "output_type": "stream",
          "name": "stdout",
          "text": [
            "32 is the biggest\n"
          ]
        }
      ]
    },
    {
      "cell_type": "code",
      "source": [
        "#loops"
      ],
      "metadata": {
        "id": "hkDts22P6mD3"
      },
      "execution_count": null,
      "outputs": []
    },
    {
      "cell_type": "code",
      "source": [
        "for num in range(0,11):\n",
        "  print(num)"
      ],
      "metadata": {
        "colab": {
          "base_uri": "https://localhost:8080/"
        },
        "id": "g1JKcpqm8F7J",
        "outputId": "3c558a98-06b8-4614-fe90-02618735d133"
      },
      "execution_count": null,
      "outputs": [
        {
          "output_type": "stream",
          "name": "stdout",
          "text": [
            "0\n",
            "1\n",
            "2\n",
            "3\n",
            "4\n",
            "5\n",
            "6\n",
            "7\n",
            "8\n",
            "9\n",
            "10\n"
          ]
        }
      ]
    },
    {
      "cell_type": "code",
      "source": [
        "for num in range(10,0,-1):\n",
        "    print(num)"
      ],
      "metadata": {
        "colab": {
          "base_uri": "https://localhost:8080/"
        },
        "id": "2U1X_KuR8iNI",
        "outputId": "5bad5248-7dda-43c7-dd2f-7ba846520dcf"
      },
      "execution_count": null,
      "outputs": [
        {
          "output_type": "stream",
          "name": "stdout",
          "text": [
            "10\n",
            "9\n",
            "8\n",
            "7\n",
            "6\n",
            "5\n",
            "4\n",
            "3\n",
            "2\n",
            "1\n"
          ]
        }
      ]
    },
    {
      "cell_type": "code",
      "source": [
        "#to find the square of all even numbers between 1-10\n"
      ],
      "metadata": {
        "id": "W9l-jK009JM6"
      },
      "execution_count": null,
      "outputs": []
    },
    {
      "cell_type": "code",
      "source": [
        "for num in range(1,12):\n",
        "  if num%2==0:\n",
        "    print(num*num)"
      ],
      "metadata": {
        "colab": {
          "base_uri": "https://localhost:8080/"
        },
        "id": "yv4S9ZLa-BCf",
        "outputId": "2ce1e910-d906-4b9c-fc13-541bd1cac59c"
      },
      "execution_count": null,
      "outputs": [
        {
          "output_type": "stream",
          "name": "stdout",
          "text": [
            "4\n",
            "16\n",
            "36\n",
            "64\n",
            "100\n"
          ]
        }
      ]
    },
    {
      "cell_type": "code",
      "source": [
        "#to get a list a input from the user and find the sum of all numbers all yhe list"
      ],
      "metadata": {
        "id": "8Bj9-x33_ls0"
      },
      "execution_count": null,
      "outputs": []
    },
    {
      "cell_type": "code",
      "source": [
        "limit=int(input(\"enter the limit\"))\n",
        "sum=0\n",
        "for num in range (0,limit+1):\n",
        "    sum=sum+num\n",
        "print(sum)"
      ],
      "metadata": {
        "colab": {
          "base_uri": "https://localhost:8080/"
        },
        "id": "_P11CVauAX83",
        "outputId": "7ef1d68f-fd16-422d-8d8c-59b00d8eb689"
      },
      "execution_count": null,
      "outputs": [
        {
          "output_type": "stream",
          "name": "stdout",
          "text": [
            "enter the limit5\n",
            "15\n"
          ]
        }
      ]
    },
    {
      "cell_type": "code",
      "source": [
        "#to count the numbers divisible by 3 from 5 to 500"
      ],
      "metadata": {
        "id": "a1yHLJFxDVyR"
      },
      "execution_count": null,
      "outputs": []
    },
    {
      "cell_type": "code",
      "source": [
        "count=0\n",
        "for num in range(5,501):\n",
        "   if(num=)\n",
        "   num%3==0:\n",
        "   print(count)"
      ],
      "metadata": {
        "colab": {
          "base_uri": "https://localhost:8080/",
          "height": 106
        },
        "id": "vH5QTGFYDoNg",
        "outputId": "a7d50015-4b5e-45e8-dbc1-07cbcfaabb64"
      },
      "execution_count": 71,
      "outputs": [
        {
          "output_type": "error",
          "ename": "SyntaxError",
          "evalue": "invalid syntax (<ipython-input-71-b2a9b49c0489>, line 3)",
          "traceback": [
            "\u001b[0;36m  File \u001b[0;32m\"<ipython-input-71-b2a9b49c0489>\"\u001b[0;36m, line \u001b[0;32m3\u001b[0m\n\u001b[0;31m    if(num=)\u001b[0m\n\u001b[0m          ^\u001b[0m\n\u001b[0;31mSyntaxError\u001b[0m\u001b[0;31m:\u001b[0m invalid syntax\n"
          ]
        }
      ]
    },
    {
      "cell_type": "code",
      "source": [
        "f=['apple','orange','banana','grapes']\n",
        "for fruit in f:\n",
        "   print(fruit)"
      ],
      "metadata": {
        "colab": {
          "base_uri": "https://localhost:8080/"
        },
        "id": "YByHiGRrMPYw",
        "outputId": "270fa44b-114d-4d77-df50-f65c42f6ce25"
      },
      "execution_count": 72,
      "outputs": [
        {
          "output_type": "stream",
          "name": "stdout",
          "text": [
            "apple\n",
            "orange\n",
            "banana\n",
            "grapes\n"
          ]
        }
      ]
    },
    {
      "cell_type": "code",
      "source": [
        "word='python programming'\n",
        "for letter in word:\n",
        "  print(letter,end='')"
      ],
      "metadata": {
        "colab": {
          "base_uri": "https://localhost:8080/"
        },
        "id": "uHgohk-GM34Y",
        "outputId": "a074dc32-e478-47d9-faa6-84baa6696ad1"
      },
      "execution_count": 76,
      "outputs": [
        {
          "output_type": "stream",
          "name": "stdout",
          "text": [
            "python programming"
          ]
        }
      ]
    },
    {
      "cell_type": "code",
      "source": [
        "word='python programming'\n",
        "for letter in word:\n",
        "  print(letter)"
      ],
      "metadata": {
        "colab": {
          "base_uri": "https://localhost:8080/"
        },
        "outputId": "76af67fc-4ac4-4593-e8b5-8ab537bdeb07",
        "id": "qA5MEpv7Nw_S"
      },
      "execution_count": 77,
      "outputs": [
        {
          "output_type": "stream",
          "name": "stdout",
          "text": [
            "p\n",
            "y\n",
            "t\n",
            "h\n",
            "o\n",
            "n\n",
            " \n",
            "p\n",
            "r\n",
            "o\n",
            "g\n",
            "r\n",
            "a\n",
            "m\n",
            "m\n",
            "i\n",
            "n\n",
            "g\n"
          ]
        }
      ]
    },
    {
      "cell_type": "code",
      "source": [
        "#to print a sum of the elements in a given list\n",
        "sum=0\n",
        "num=[1,2,3,4,5]\n",
        "for num in num:\n",
        "    sum=sum+num\n",
        "    print(sum)\n",
        "\n"
      ],
      "metadata": {
        "colab": {
          "base_uri": "https://localhost:8080/"
        },
        "id": "vIht745sN2Uw",
        "outputId": "cbdc852e-c8ae-4bd5-de69-1a17beb5fcab"
      },
      "execution_count": 94,
      "outputs": [
        {
          "output_type": "stream",
          "name": "stdout",
          "text": [
            "1\n",
            "3\n",
            "6\n",
            "10\n",
            "15\n"
          ]
        }
      ]
    },
    {
      "cell_type": "code",
      "source": [
        "#while loop\n",
        "i=0\n",
        "while(i!=10):\n",
        "   print(i)\n",
        "   i+=2"
      ],
      "metadata": {
        "colab": {
          "base_uri": "https://localhost:8080/"
        },
        "id": "hf_0CPBrQ7Zc",
        "outputId": "b31964c1-6e64-4445-a0b0-92de33a10e31"
      },
      "execution_count": 95,
      "outputs": [
        {
          "output_type": "stream",
          "name": "stdout",
          "text": [
            "0\n",
            "2\n",
            "4\n",
            "6\n",
            "8\n"
          ]
        }
      ]
    },
    {
      "cell_type": "code",
      "source": [
        "l1=[5,15,22,32,45,55]\n",
        "even=[]\n",
        "odd=[]\n",
        "while len(l1)>0:\n",
        "  l=l1.pop()\n",
        "  if l%2++0:\n",
        "      even.append(l)\n",
        "  else:\n",
        "    odd.append(l)\n",
        "print(even)\n",
        "print(odd)\n"
      ],
      "metadata": {
        "colab": {
          "base_uri": "https://localhost:8080/"
        },
        "id": "raOsCX_9RdbA",
        "outputId": "f11065a5-f6f7-48b0-cb46-8ba47ce4b812"
      },
      "execution_count": 105,
      "outputs": [
        {
          "output_type": "stream",
          "name": "stdout",
          "text": [
            "[55, 45, 15, 5]\n",
            "[32, 22]\n"
          ]
        }
      ]
    },
    {
      "cell_type": "code",
      "source": [
        "#input the names until the user decides to stop then print all the names"
      ],
      "metadata": {
        "id": "KjsI9uviTHFS"
      },
      "execution_count": 106,
      "outputs": []
    },
    {
      "cell_type": "code",
      "source": [
        "\n",
        "\n",
        "name_1= []\n",
        "a=''\n",
        "while(a!=\"no\")\n",
        "name = input(\"enter a name\")\n",
        "  a=input(\"to you want to condition,enter NO to stop\")\n",
        "  a=a.upper()\n",
        "  name_1.append(name)\n",
        "  print(\"enter the names are\",name)\n",
        "\n",
        "\n"
      ],
      "metadata": {
        "id": "sE-mjTizUvAi",
        "colab": {
          "base_uri": "https://localhost:8080/",
          "height": 106
        },
        "outputId": "6a76d9e6-4081-4dfc-a173-eea1c8b22183"
      },
      "execution_count": 124,
      "outputs": [
        {
          "output_type": "error",
          "ename": "SyntaxError",
          "evalue": "expected ':' (<ipython-input-124-6d1dc6b77330>, line 3)",
          "traceback": [
            "\u001b[0;36m  File \u001b[0;32m\"<ipython-input-124-6d1dc6b77330>\"\u001b[0;36m, line \u001b[0;32m3\u001b[0m\n\u001b[0;31m    while(a!=\"no\")\u001b[0m\n\u001b[0m                  ^\u001b[0m\n\u001b[0;31mSyntaxError\u001b[0m\u001b[0;31m:\u001b[0m expected ':'\n"
          ]
        }
      ]
    },
    {
      "cell_type": "code",
      "source": [
        "# prompt: input names until the user decides to stop then print all the names\n",
        "\n",
        "names = []\n",
        "while True:\n",
        "  name = input(\"Enter a name (or 'quet' to quet): \")\n",
        "  if name == 'quet':\n",
        "    break\n",
        "  names.append(name)\n",
        "\n",
        "print(\"The following names were entered:\")\n",
        "for name in names:\n",
        "  print(name)\n"
      ],
      "metadata": {
        "colab": {
          "base_uri": "https://localhost:8080/"
        },
        "id": "k4SnbBYXVvIp",
        "outputId": "01911e85-f565-4ff3-e429-1ff472c16106"
      },
      "execution_count": 111,
      "outputs": [
        {
          "output_type": "stream",
          "name": "stdout",
          "text": [
            "Enter a name (or 'quet' to quet): sidaan\n",
            "Enter a name (or 'quet' to quet): sarang\n",
            "Enter a name (or 'quet' to quet): quet\n",
            "The following names were entered:\n",
            "sidaan\n",
            "sarang\n"
          ]
        }
      ]
    },
    {
      "cell_type": "code",
      "source": [
        "#break\n",
        "i=1\n",
        "while(i<10):\n",
        "if i==5:\n",
        "   i+1\n",
        "   continue\n",
        "   print(i)\n",
        "   i=i+1\n"
      ],
      "metadata": {
        "colab": {
          "base_uri": "https://localhost:8080/",
          "height": 106
        },
        "id": "ASXfKDYZYb8T",
        "outputId": "9265bf96-173d-4a9c-e428-8f79d42c78af"
      },
      "execution_count": 127,
      "outputs": [
        {
          "output_type": "error",
          "ename": "IndentationError",
          "evalue": "expected an indented block after 'while' statement on line 3 (<ipython-input-127-f208ae1b9de4>, line 4)",
          "traceback": [
            "\u001b[0;36m  File \u001b[0;32m\"<ipython-input-127-f208ae1b9de4>\"\u001b[0;36m, line \u001b[0;32m4\u001b[0m\n\u001b[0;31m    if i==5:\u001b[0m\n\u001b[0m    ^\u001b[0m\n\u001b[0;31mIndentationError\u001b[0m\u001b[0;31m:\u001b[0m expected an indented block after 'while' statement on line 3\n"
          ]
        }
      ]
    }
  ]
}